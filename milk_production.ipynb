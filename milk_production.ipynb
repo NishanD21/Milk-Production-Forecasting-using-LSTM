{
 "cells": [
  {
   "cell_type": "markdown",
   "id": "163f738b",
   "metadata": {},
   "source": [
    "### Milk Production Forecasting"
   ]
  },
  {
   "cell_type": "code",
   "execution_count": null,
   "id": "782f5a55",
   "metadata": {
    "vscode": {
     "languageId": "plaintext"
    }
   },
   "outputs": [],
   "source": []
  }
 ],
 "metadata": {
  "language_info": {
   "name": "python"
  }
 },
 "nbformat": 4,
 "nbformat_minor": 5
}
